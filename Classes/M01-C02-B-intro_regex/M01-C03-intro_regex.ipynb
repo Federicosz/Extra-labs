{
 "cells": [
  {
   "cell_type": "markdown",
   "metadata": {},
   "source": [
    "# REGular EXpression - INTRO TO REGEX"
   ]
  },
  {
   "cell_type": "code",
   "execution_count": 2,
   "metadata": {
    "ExecuteTime": {
     "end_time": "2020-10-28T00:51:13.239846Z",
     "start_time": "2020-10-28T00:51:13.225852Z"
    }
   },
   "outputs": [],
   "source": [
    "# your code here!\n",
    "import re"
   ]
  },
  {
   "cell_type": "markdown",
   "metadata": {},
   "source": [
    "1. `re.search`: Returns the first instance of an expression in a string.\n",
    "2. `re.findall`: Finds all instances of an expression in a string and returns them as a list.\n",
    "3. `re.split`: Splits a string based on a specified delimiter.\n",
    "4. `re.sub`: Substitutes a string/substring with another."
   ]
  },
  {
   "cell_type": "markdown",
   "metadata": {},
   "source": [
    "Website to visually see what your regular expressions look like: https://regexper.com/"
   ]
  },
  {
   "cell_type": "code",
   "execution_count": 5,
   "metadata": {
    "ExecuteTime": {
     "end_time": "2020-07-16T00:24:35.903831Z",
     "start_time": "2020-07-16T00:24:35.899843Z"
    }
   },
   "outputs": [
    {
     "data": {
      "text/plain": [
       "['neighbor']"
      ]
     },
     "execution_count": 5,
     "metadata": {},
     "output_type": "execute_result"
    }
   ],
   "source": [
    "text = 'My neighbor, Mr. Rogers, has 5 dogs.'\n",
    "pattern = 'neighbor'\n",
    "\n",
    "re.findall(pattern, text)"
   ]
  },
  {
   "cell_type": "code",
   "execution_count": 7,
   "metadata": {
    "ExecuteTime": {
     "end_time": "2020-07-16T00:25:08.512355Z",
     "start_time": "2020-07-16T00:25:08.507369Z"
    }
   },
   "outputs": [
    {
     "data": {
      "text/plain": [
       "['dog', 'dog']"
      ]
     },
     "execution_count": 7,
     "metadata": {},
     "output_type": "execute_result"
    }
   ],
   "source": [
    "text = 'My neighbor, Mr. Rogers, has 5 dogs. I love those dogs.'\n",
    "pattern = 'dog'\n",
    "\n",
    "re.findall(pattern, text)"
   ]
  },
  {
   "cell_type": "code",
   "execution_count": 8,
   "metadata": {
    "ExecuteTime": {
     "end_time": "2020-07-16T00:25:42.934175Z",
     "start_time": "2020-07-16T00:25:42.929186Z"
    }
   },
   "outputs": [
    {
     "data": {
      "text/plain": [
       "[]"
      ]
     },
     "execution_count": 8,
     "metadata": {},
     "output_type": "execute_result"
    }
   ],
   "source": [
    "text = 'My neighbor, Mr. Rogers, has 5 dogs. I love those dogs.'\n",
    "pattern = 'cat'\n",
    "\n",
    "re.findall(pattern, text)"
   ]
  },
  {
   "cell_type": "code",
   "execution_count": 17,
   "metadata": {},
   "outputs": [
    {
     "data": {
      "text/plain": [
       "['.', '.', '.']"
      ]
     },
     "execution_count": 17,
     "metadata": {},
     "output_type": "execute_result"
    }
   ],
   "source": [
    "text = 'My neighbor, Mr. Rogers, has 5 dogs. I love those dogs.'\n",
    "pattern = '\\.'\n",
    "\n",
    "re.findall(pattern, text)"
   ]
  },
  {
   "cell_type": "markdown",
   "metadata": {},
   "source": [
    "## Introducing Sets"
   ]
  },
  {
   "cell_type": "code",
   "execution_count": 22,
   "metadata": {
    "ExecuteTime": {
     "end_time": "2020-07-16T00:27:30.345050Z",
     "start_time": "2020-07-16T00:27:30.340064Z"
    }
   },
   "outputs": [
    {
     "data": {
      "text/plain": [
       "['My']"
      ]
     },
     "execution_count": 22,
     "metadata": {},
     "output_type": "execute_result"
    }
   ],
   "source": [
    "text = 'My neighbor, Mr. Rogers, has 5 dogs.'\n",
    "pattern = '[Mm][Yy]'\n",
    "\n",
    "re.findall(pattern, text)"
   ]
  },
  {
   "cell_type": "code",
   "execution_count": 26,
   "metadata": {
    "ExecuteTime": {
     "end_time": "2020-07-16T00:29:49.830428Z",
     "start_time": "2020-07-16T00:29:49.826438Z"
    }
   },
   "outputs": [
    {
     "data": {
      "text/plain": [
       "['Rogers', 'rogers']"
      ]
     },
     "execution_count": 26,
     "metadata": {},
     "output_type": "execute_result"
    }
   ],
   "source": [
    "text = 'My neighbor, Mr. Rogers, has 5 rogers.'\n",
    "pattern = '[Rr]ogers'\n",
    "\n",
    "re.findall(pattern, text)"
   ]
  },
  {
   "cell_type": "code",
   "execution_count": 30,
   "metadata": {
    "ExecuteTime": {
     "end_time": "2020-07-16T00:32:08.016766Z",
     "start_time": "2020-07-16T00:32:08.012777Z"
    }
   },
   "outputs": [
    {
     "data": {
      "text/plain": [
       "<re.Match object; span=(17, 23), match='Rogers'>"
      ]
     },
     "execution_count": 30,
     "metadata": {},
     "output_type": "execute_result"
    }
   ],
   "source": [
    "re.search(pattern, text)"
   ]
  },
  {
   "cell_type": "code",
   "execution_count": 40,
   "metadata": {
    "ExecuteTime": {
     "end_time": "2020-07-16T00:31:43.173622Z",
     "start_time": "2020-07-16T00:31:43.168663Z"
    }
   },
   "outputs": [
    {
     "data": {
      "text/plain": [
       "'Madu neighbor, Mr. Madu, has Madu Madu.'"
      ]
     },
     "execution_count": 40,
     "metadata": {},
     "output_type": "execute_result"
    }
   ],
   "source": [
    "text = 'My neighbor, Mr. Rogers, has 5 rogers.'\n",
    "\n",
    "pattern = '[Rr]ogers|My|5'\n",
    "\n",
    "re.sub(pattern, 'Madu', text)"
   ]
  },
  {
   "cell_type": "code",
   "execution_count": 53,
   "metadata": {
    "ExecuteTime": {
     "end_time": "2020-07-16T00:41:39.007719Z",
     "start_time": "2020-07-16T00:41:39.002732Z"
    }
   },
   "outputs": [
    {
     "data": {
      "text/plain": [
       "['Sáo Paulo',\n",
       " 'São Paulo',\n",
       " 'Sao Paulo',\n",
       " 'Sao Paolo',\n",
       " 'San Pablo',\n",
       " 'sao paulo',\n",
       " 'sao Paulo',\n",
       " 'são Paulo',\n",
       " 'sao-paulo',\n",
       " 'são paulo',\n",
       " 'São Paulo']"
      ]
     },
     "execution_count": 53,
     "metadata": {},
     "output_type": "execute_result"
    }
   ],
   "source": [
    "text = 'Sáo Paulo São Paulo Sao Paulo Sao Paolo San Pablo sao paulo sao Paulo são Paulo sao-paulo são paulo São Paulo Saon Paulo'\n",
    "\n",
    "pattern = '[Ss][aáã][on][n -][ -Pp][aáã][buo]lo'\n",
    "\n",
    "re.findall(pattern, text)"
   ]
  },
  {
   "cell_type": "markdown",
   "metadata": {},
   "source": [
    "# Pattern sets:\n",
    "\n",
    "Range\n",
    "\n",
    "1. [a-z]: Any lowercase letter between a and z.\n",
    "2. [A-Z]: Any uppercase letter between A and Z.\n",
    "3. [0-9]: Any numeric character between 0 and 9."
   ]
  },
  {
   "cell_type": "code",
   "execution_count": 62,
   "metadata": {
    "ExecuteTime": {
     "end_time": "2020-07-16T00:44:34.046812Z",
     "start_time": "2020-07-16T00:44:34.041826Z"
    },
    "scrolled": true
   },
   "outputs": [
    {
     "data": {
      "text/plain": [
       "['Mr.', 'Rog']"
      ]
     },
     "execution_count": 62,
     "metadata": {},
     "output_type": "execute_result"
    }
   ],
   "source": [
    "text = 'My neighbor, Mr. Rogers, has 5 rogers. [A-Z]'\n",
    "pattern = '[A-Z][a-z][a-z\\.]'\n",
    "\n",
    "re.findall(pattern, text)"
   ]
  },
  {
   "cell_type": "code",
   "execution_count": 67,
   "metadata": {},
   "outputs": [
    {
     "data": {
      "text/plain": [
       "['5']"
      ]
     },
     "execution_count": 67,
     "metadata": {},
     "output_type": "execute_result"
    }
   ],
   "source": [
    "text = 'My neighbor, Mr. Rogers, has 5 rogers. [A-Z]'\n",
    "pattern = '[4-9]'\n",
    "\n",
    "re.findall(pattern, text)"
   ]
  },
  {
   "cell_type": "code",
   "execution_count": 75,
   "metadata": {
    "ExecuteTime": {
     "end_time": "2020-07-16T00:47:19.974455Z",
     "start_time": "2020-07-16T00:47:19.970465Z"
    },
    "tags": []
   },
   "outputs": [
    {
     "name": "stdout",
     "output_type": "stream",
     "text": [
      "<re.Match object; span=(0, 1), match='M'>\n"
     ]
    }
   ],
   "source": [
    "# you can concatenate ranges\n",
    "\n",
    "text = 'My neighbor, Mr. Rogers, has 5 rogers. [A-Z] π'\n",
    "pattern = '[A-Za-z0-9]'\n",
    "\n",
    "# print(re.findall(pattern, text))\n",
    "\n",
    "print(re.search(pattern, text))"
   ]
  },
  {
   "cell_type": "markdown",
   "metadata": {},
   "source": [
    "The opposite: \n",
    "- `^` matches everything except the pattern "
   ]
  },
  {
   "cell_type": "code",
   "execution_count": 76,
   "metadata": {
    "ExecuteTime": {
     "end_time": "2020-07-16T00:50:11.666620Z",
     "start_time": "2020-07-16T00:50:11.661633Z"
    }
   },
   "outputs": [
    {
     "data": {
      "text/plain": [
       "[' ',\n",
       " ',',\n",
       " ' ',\n",
       " '.',\n",
       " ' ',\n",
       " ',',\n",
       " ' ',\n",
       " ' ',\n",
       " ' ',\n",
       " '.',\n",
       " ' ',\n",
       " '[',\n",
       " '-',\n",
       " ']',\n",
       " ' ',\n",
       " 'π']"
      ]
     },
     "execution_count": 76,
     "metadata": {},
     "output_type": "execute_result"
    }
   ],
   "source": [
    "pattern = '[^A-Za-z0-9]'\n",
    "\n",
    "re.findall(pattern, text)"
   ]
  },
  {
   "cell_type": "markdown",
   "metadata": {},
   "source": [
    "# Meta Characters:\n",
    "\n",
    "Characters that don't mean what they are.\n",
    "\n",
    "1. `\\w`: Any alphanumeric character.\n",
    "3. `\\d`: Any numeric character.\n",
    "7. `.` : Any character except newline (\\n)."
   ]
  },
  {
   "cell_type": "code",
   "execution_count": 87,
   "metadata": {
    "ExecuteTime": {
     "end_time": "2020-07-16T01:09:19.738308Z",
     "start_time": "2020-07-16T01:09:19.734318Z"
    }
   },
   "outputs": [],
   "source": [
    "text = 'My neighbor, Mr. Rogers, ] has 5 - dogs 10. α π \\d'"
   ]
  },
  {
   "cell_type": "code",
   "execution_count": 83,
   "metadata": {},
   "outputs": [
    {
     "name": "stdout",
     "output_type": "stream",
     "text": [
      "['M', 'y', 'n', 'e', 'i', 'g', 'h', 'b', 'o', 'r', 'M', 'r', 'R', 'o', 'g', 'e', 'r', 's', 'h', 'a', 's', '5', 'd', 'o', 'g', 's', '1', '0']\n"
     ]
    }
   ],
   "source": [
    "pattern = '[A-Za-z0-9]'\n",
    "print(re.findall(pattern, text))"
   ]
  },
  {
   "cell_type": "code",
   "execution_count": 84,
   "metadata": {
    "ExecuteTime": {
     "end_time": "2020-07-16T01:10:33.289047Z",
     "start_time": "2020-07-16T01:10:33.285057Z"
    }
   },
   "outputs": [
    {
     "name": "stdout",
     "output_type": "stream",
     "text": [
      "['M', 'y', 'n', 'e', 'i', 'g', 'h', 'b', 'o', 'r', 'M', 'r', 'R', 'o', 'g', 'e', 'r', 's', 'h', 'a', 's', '5', 'd', 'o', 'g', 's', '1', '0', 'α', 'π']\n"
     ]
    }
   ],
   "source": [
    "# your code here!\n",
    "pattern = '\\w'\n",
    "print(re.findall(pattern, text))"
   ]
  },
  {
   "cell_type": "code",
   "execution_count": 101,
   "metadata": {},
   "outputs": [
    {
     "name": "stdout",
     "output_type": "stream",
     "text": [
      "\\d\n"
     ]
    }
   ],
   "source": [
    "# your code here!\n",
    "pattern = r'\\\\d' # [0-9]\n",
    "print(re.findall(pattern, text)[0])"
   ]
  },
  {
   "cell_type": "code",
   "execution_count": 99,
   "metadata": {},
   "outputs": [
    {
     "name": "stdout",
     "output_type": "stream",
     "text": [
      "['M', 'y', ' ', 'n', 'e', 'i', 'g', 'h', 'b', 'o', 'r', ',', ' ', 'M', 'r', '.', ' ', 'R', 'o', 'g', 'e', 'r', 's', ',', ' ', ']', ' ', 'h', 'a', 's', ' ', '5', ' ', '-', ' ', 'd', 'o', 'g', 's', ' ', '1', '0', '.', ' ', 'α', ' ', 'π', ' ', '\\\\', 'd']\n"
     ]
    }
   ],
   "source": [
    "# your code here!\n",
    "pattern = '.'\n",
    "print(re.findall(pattern, text))"
   ]
  },
  {
   "cell_type": "markdown",
   "metadata": {},
   "source": [
    "## Quantifiers"
   ]
  },
  {
   "cell_type": "markdown",
   "metadata": {},
   "source": [
    "1. `*`: 0 or more\n",
    "2. `?`: 0 or 1\n",
    "3. `+`: 1 or more"
   ]
  },
  {
   "cell_type": "code",
   "execution_count": 147,
   "metadata": {
    "ExecuteTime": {
     "end_time": "2020-07-16T01:12:53.655445Z",
     "start_time": "2020-07-16T01:12:53.651455Z"
    }
   },
   "outputs": [],
   "source": [
    "text = '''do My neighbor, Mr. Rogers, has 5 -m dogs and 100 cats and β sheeps. doc1s'''"
   ]
  },
  {
   "cell_type": "code",
   "execution_count": 115,
   "metadata": {
    "ExecuteTime": {
     "end_time": "2020-07-16T01:17:53.516694Z",
     "start_time": "2020-07-16T01:17:53.512732Z"
    }
   },
   "outputs": [
    {
     "data": {
      "text/plain": [
       "['5', '100']"
      ]
     },
     "execution_count": 115,
     "metadata": {},
     "output_type": "execute_result"
    }
   ],
   "source": [
    "# your code here!\n",
    "re.findall('\\d+', text)"
   ]
  },
  {
   "cell_type": "code",
   "execution_count": 129,
   "metadata": {},
   "outputs": [
    {
     "data": {
      "text/plain": [
       "['-m dogs and 100 cats and β sheeps.']"
      ]
     },
     "execution_count": 129,
     "metadata": {},
     "output_type": "execute_result"
    }
   ],
   "source": [
    "re.findall('-.+', text)"
   ]
  },
  {
   "cell_type": "code",
   "execution_count": 157,
   "metadata": {},
   "outputs": [
    {
     "data": {
      "text/plain": [
       "['doc1s']"
      ]
     },
     "execution_count": 157,
     "metadata": {},
     "output_type": "execute_result"
    }
   ],
   "source": [
    "re.findall('do\\w{3}', text)"
   ]
  },
  {
   "cell_type": "code",
   "execution_count": 158,
   "metadata": {
    "ExecuteTime": {
     "end_time": "2020-07-16T01:29:01.388057Z",
     "start_time": "2020-07-16T01:29:01.383069Z"
    }
   },
   "outputs": [
    {
     "data": {
      "text/plain": [
       "['Sáo Paulo',\n",
       " 'São Paulo',\n",
       " 'Sao Paulo',\n",
       " 'Sao Paolo',\n",
       " 'San Pablo',\n",
       " 'sao paulo',\n",
       " 'sao Paulo',\n",
       " 'são Paulo',\n",
       " 'são paulo',\n",
       " 'SãoPaulo',\n",
       " 'Saon Paulo']"
      ]
     },
     "execution_count": 158,
     "metadata": {},
     "output_type": "execute_result"
    }
   ],
   "source": [
    "text = 'Sáo Paulo São Paulo Sao Paulo Sao Paolo San Pablo sao paulo sao Paulo são Paulo sao-paulo são paulo São SãoPaulo Saon Paulo'\n",
    "\n",
    "pattern = '[Ss][ãaáàâä][on]n? ?[Pp]a[buo]lo'\n",
    "\n",
    "re.findall(pattern, text)"
   ]
  },
  {
   "cell_type": "code",
   "execution_count": 159,
   "metadata": {
    "ExecuteTime": {
     "end_time": "2020-07-16T01:29:27.109751Z",
     "start_time": "2020-07-16T01:29:27.104765Z"
    }
   },
   "outputs": [
    {
     "data": {
      "text/plain": [
       "['colour', 'color']"
      ]
     },
     "execution_count": 159,
     "metadata": {},
     "output_type": "execute_result"
    }
   ],
   "source": [
    "text = 'This colonel has the colour or color blue'\n",
    "\n",
    "re.findall('colou?r', text)"
   ]
  },
  {
   "cell_type": "code",
   "execution_count": 162,
   "metadata": {
    "ExecuteTime": {
     "end_time": "2020-07-16T01:29:53.062177Z",
     "start_time": "2020-07-16T01:29:53.058188Z"
    }
   },
   "outputs": [
    {
     "data": {
      "text/plain": [
       "['apples', 'apple']"
      ]
     },
     "execution_count": 162,
     "metadata": {},
     "output_type": "execute_result"
    }
   ],
   "source": [
    "text = 'These apples are beautiful and the apple is blue.'\n",
    "\n",
    "re.findall('apples?', text)"
   ]
  },
  {
   "cell_type": "markdown",
   "metadata": {},
   "source": [
    "# Other methods for regular expressions"
   ]
  },
  {
   "cell_type": "code",
   "execution_count": 164,
   "metadata": {},
   "outputs": [
    {
     "data": {
      "text/plain": [
       "['Maria', ' Eduarda']"
      ]
     },
     "execution_count": 164,
     "metadata": {},
     "output_type": "execute_result"
    }
   ],
   "source": [
    "'Maria, Eduarda'.split(',')"
   ]
  },
  {
   "cell_type": "code",
   "execution_count": 176,
   "metadata": {
    "ExecuteTime": {
     "end_time": "2020-07-16T01:31:52.289486Z",
     "start_time": "2020-07-16T01:31:52.286494Z"
    }
   },
   "outputs": [],
   "source": [
    "text = 'My neighbor, Mr. Rogers, ] has 5 - rogers 1000, blabla'"
   ]
  },
  {
   "cell_type": "code",
   "execution_count": 166,
   "metadata": {
    "ExecuteTime": {
     "end_time": "2020-07-16T01:32:32.740398Z",
     "start_time": "2020-07-16T01:32:32.736408Z"
    }
   },
   "outputs": [
    {
     "data": {
      "text/plain": [
       "3"
      ]
     },
     "execution_count": 166,
     "metadata": {},
     "output_type": "execute_result"
    }
   ],
   "source": [
    "# your code here!\n",
    "len(re.split('[Rr]ogers', text))"
   ]
  },
  {
   "cell_type": "code",
   "execution_count": 168,
   "metadata": {},
   "outputs": [
    {
     "data": {
      "text/plain": [
       "'My neighbor, Mr. '"
      ]
     },
     "execution_count": 168,
     "metadata": {},
     "output_type": "execute_result"
    }
   ],
   "source": [
    "re.split('[Rr]ogers', text)[0]"
   ]
  },
  {
   "cell_type": "code",
   "execution_count": 169,
   "metadata": {},
   "outputs": [
    {
     "data": {
      "text/plain": [
       "', ] has 5 - '"
      ]
     },
     "execution_count": 169,
     "metadata": {},
     "output_type": "execute_result"
    }
   ],
   "source": [
    "re.split('[Rr]ogers', text)[1]"
   ]
  },
  {
   "cell_type": "code",
   "execution_count": 170,
   "metadata": {},
   "outputs": [
    {
     "data": {
      "text/plain": [
       "' 1000,'"
      ]
     },
     "execution_count": 170,
     "metadata": {},
     "output_type": "execute_result"
    }
   ],
   "source": [
    "re.split('[Rr]ogers', text)[2]"
   ]
  },
  {
   "cell_type": "code",
   "execution_count": 177,
   "metadata": {},
   "outputs": [
    {
     "data": {
      "text/plain": [
       "'My neighbor, Mr. Rogers, ] has '"
      ]
     },
     "execution_count": 177,
     "metadata": {},
     "output_type": "execute_result"
    }
   ],
   "source": [
    "re.split('\\d+', text)[0]"
   ]
  },
  {
   "cell_type": "code",
   "execution_count": 178,
   "metadata": {},
   "outputs": [
    {
     "data": {
      "text/plain": [
       "' - rogers '"
      ]
     },
     "execution_count": 178,
     "metadata": {},
     "output_type": "execute_result"
    }
   ],
   "source": [
    "re.split('\\d+', text)[1]"
   ]
  },
  {
   "cell_type": "code",
   "execution_count": 179,
   "metadata": {},
   "outputs": [
    {
     "data": {
      "text/plain": [
       "', blabla'"
      ]
     },
     "execution_count": 179,
     "metadata": {},
     "output_type": "execute_result"
    }
   ],
   "source": [
    "re.split('\\d+', text)[2]"
   ]
  },
  {
   "cell_type": "code",
   "execution_count": null,
   "metadata": {},
   "outputs": [],
   "source": []
  }
 ],
 "metadata": {
  "kernelspec": {
   "display_name": "Python 3",
   "language": "python",
   "name": "python3"
  },
  "language_info": {
   "codemirror_mode": {
    "name": "ipython",
    "version": 3
   },
   "file_extension": ".py",
   "mimetype": "text/x-python",
   "name": "python",
   "nbconvert_exporter": "python",
   "pygments_lexer": "ipython3",
   "version": "3.7.10"
  },
  "toc": {
   "base_numbering": 1,
   "nav_menu": {},
   "number_sections": true,
   "sideBar": true,
   "skip_h1_title": false,
   "title_cell": "Table of Contents",
   "title_sidebar": "Contents",
   "toc_cell": false,
   "toc_position": {},
   "toc_section_display": true,
   "toc_window_display": false
  },
  "varInspector": {
   "cols": {
    "lenName": 16,
    "lenType": 16,
    "lenVar": 40
   },
   "kernels_config": {
    "python": {
     "delete_cmd_postfix": "",
     "delete_cmd_prefix": "del ",
     "library": "var_list.py",
     "varRefreshCmd": "print(var_dic_list())"
    },
    "r": {
     "delete_cmd_postfix": ") ",
     "delete_cmd_prefix": "rm(",
     "library": "var_list.r",
     "varRefreshCmd": "cat(var_dic_list()) "
    }
   },
   "types_to_exclude": [
    "module",
    "function",
    "builtin_function_or_method",
    "instance",
    "_Feature"
   ],
   "window_display": false
  }
 },
 "nbformat": 4,
 "nbformat_minor": 4
}
