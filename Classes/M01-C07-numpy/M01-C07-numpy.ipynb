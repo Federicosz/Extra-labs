{
 "cells": [
  {
   "cell_type": "code",
   "execution_count": null,
   "metadata": {},
   "outputs": [],
   "source": [
    "!pip install numpy --upgrade"
   ]
  },
  {
   "cell_type": "code",
   "execution_count": null,
   "metadata": {},
   "outputs": [],
   "source": [
    "!pip install matplotlib"
   ]
  },
  {
   "cell_type": "code",
   "execution_count": null,
   "metadata": {},
   "outputs": [],
   "source": [
    "!pip install sklearn"
   ]
  },
  {
   "cell_type": "markdown",
   "metadata": {},
   "source": [
    "# Numpy"
   ]
  },
  {
   "cell_type": "code",
   "execution_count": null,
   "metadata": {
    "ExecuteTime": {
     "end_time": "2020-07-29T00:20:48.588387Z",
     "start_time": "2020-07-29T00:20:48.586387Z"
    }
   },
   "outputs": [],
   "source": [
    "# importing numpy convention\n",
    "import numpy as np"
   ]
  },
  {
   "cell_type": "markdown",
   "metadata": {},
   "source": [
    "---\n",
    "\n",
    "## Why Numpy? \n",
    "\n",
    "https://github.com/numpy/numpy"
   ]
  },
  {
   "cell_type": "markdown",
   "metadata": {},
   "source": [
    "----\n",
    "## What are Numpy Arrays?\n",
    "\n",
    "Numpy arrays are very close to **lists** in python. The main differences for us in Data Analysis are:\n",
    "\n",
    "- There are *LOTS* of new mathematical methods that you can use in numpy arrays;\n",
    "- Operations are much faster (if you are dealing with big data);\n",
    "- Less Memory."
   ]
  },
  {
   "cell_type": "markdown",
   "metadata": {},
   "source": [
    "### 1. How to create an `array`"
   ]
  },
  {
   "cell_type": "code",
   "execution_count": null,
   "metadata": {},
   "outputs": [],
   "source": [
    "## Creating a numpy array from a list, checking the type"
   ]
  },
  {
   "cell_type": "code",
   "execution_count": null,
   "metadata": {
    "ExecuteTime": {
     "end_time": "2020-07-29T00:35:59.919254Z",
     "start_time": "2020-07-29T00:35:59.916256Z"
    }
   },
   "outputs": [],
   "source": [
    "## Creating a random numpy array"
   ]
  },
  {
   "cell_type": "code",
   "execution_count": null,
   "metadata": {},
   "outputs": [],
   "source": [
    "## Defining a type"
   ]
  },
  {
   "cell_type": "markdown",
   "metadata": {},
   "source": [
    "### 2. `Vectors` or `1-D array`"
   ]
  },
  {
   "cell_type": "code",
   "execution_count": null,
   "metadata": {
    "ExecuteTime": {
     "end_time": "2020-07-29T00:53:03.207476Z",
     "start_time": "2020-07-29T00:53:03.203475Z"
    }
   },
   "outputs": [],
   "source": [
    "## How to create"
   ]
  },
  {
   "cell_type": "code",
   "execution_count": null,
   "metadata": {
    "ExecuteTime": {
     "end_time": "2020-07-29T00:53:49.013699Z",
     "start_time": "2020-07-29T00:53:49.008703Z"
    }
   },
   "outputs": [],
   "source": [
    "## How to check the shape and size"
   ]
  },
  {
   "cell_type": "code",
   "execution_count": null,
   "metadata": {},
   "outputs": [],
   "source": [
    "## How to access values? Like lists, we use indexes"
   ]
  },
  {
   "cell_type": "markdown",
   "metadata": {},
   "source": [
    "### 3. `Matrix` or `2-D array`: **row, column**, this is the most important! ;-)\n",
    "\n",
    "- Imagine that rows are the observations of your data set\n",
    "- Imagine that columns are the characteristics of your data"
   ]
  },
  {
   "cell_type": "code",
   "execution_count": null,
   "metadata": {},
   "outputs": [],
   "source": [
    "## How to create: row, column"
   ]
  },
  {
   "cell_type": "code",
   "execution_count": null,
   "metadata": {},
   "outputs": [],
   "source": [
    "## How to check the shape and size"
   ]
  },
  {
   "cell_type": "code",
   "execution_count": null,
   "metadata": {},
   "outputs": [],
   "source": [
    "## How to access values? array2d[row_number, column_number]"
   ]
  },
  {
   "cell_type": "markdown",
   "metadata": {},
   "source": [
    "### 4. `n-D array`"
   ]
  },
  {
   "cell_type": "code",
   "execution_count": null,
   "metadata": {
    "ExecuteTime": {
     "end_time": "2020-07-29T00:59:31.320445Z",
     "start_time": "2020-07-29T00:59:31.318444Z"
    }
   },
   "outputs": [],
   "source": [
    "## How to create: row, column"
   ]
  },
  {
   "cell_type": "code",
   "execution_count": null,
   "metadata": {
    "ExecuteTime": {
     "end_time": "2020-07-29T00:59:31.897444Z",
     "start_time": "2020-07-29T00:59:31.894474Z"
    }
   },
   "outputs": [],
   "source": [
    "## How to check the shape and size"
   ]
  },
  {
   "cell_type": "code",
   "execution_count": null,
   "metadata": {
    "ExecuteTime": {
     "end_time": "2020-07-29T00:59:44.117774Z",
     "start_time": "2020-07-29T00:59:44.113774Z"
    }
   },
   "outputs": [],
   "source": [
    "## How to access values? array_3d[x_index, y_index, z_index]"
   ]
  },
  {
   "cell_type": "markdown",
   "metadata": {},
   "source": [
    "### 5. `lists` vs. `numpy arrays`"
   ]
  },
  {
   "cell_type": "code",
   "execution_count": null,
   "metadata": {},
   "outputs": [],
   "source": [
    "# sum"
   ]
  },
  {
   "cell_type": "code",
   "execution_count": null,
   "metadata": {},
   "outputs": [],
   "source": [
    "# multiplication"
   ]
  },
  {
   "cell_type": "code",
   "execution_count": null,
   "metadata": {},
   "outputs": [],
   "source": [
    "# comparisons"
   ]
  },
  {
   "cell_type": "code",
   "execution_count": null,
   "metadata": {},
   "outputs": [],
   "source": [
    "# 3-D to 1-D"
   ]
  },
  {
   "cell_type": "markdown",
   "metadata": {},
   "source": [
    "### 6. The `axis` concept - very useful\n",
    "\n",
    "- The `axis` concept: \n",
    "    - axis = 0, first axis == `rows`\n",
    "        - When we set axis=0, the function will **collapses** the rows and calculates the function\n",
    "        \n",
    "    - axis = 0, first axis == `columns`\n",
    "        - When we set axis=1, the function will **collapses** the columns and calculates the function"
   ]
  },
  {
   "cell_type": "markdown",
   "metadata": {},
   "source": [
    "#### 6.1 Some examples with mathematical operations\n",
    "\n",
    "**Mean**  \n",
    "$$ \\bar{x} = \\frac{1}{N}\\left(\\sum_{i=0}^{N-1} x_i\\right)  $$"
   ]
  },
  {
   "cell_type": "code",
   "execution_count": null,
   "metadata": {
    "ExecuteTime": {
     "end_time": "2020-07-29T01:33:21.195925Z",
     "start_time": "2020-07-29T01:33:21.191895Z"
    }
   },
   "outputs": [],
   "source": [
    "# mean for each column?"
   ]
  },
  {
   "cell_type": "code",
   "execution_count": null,
   "metadata": {
    "ExecuteTime": {
     "end_time": "2020-07-29T01:33:29.657800Z",
     "start_time": "2020-07-29T01:33:29.654834Z"
    }
   },
   "outputs": [],
   "source": [
    "# mean for each row?"
   ]
  },
  {
   "cell_type": "markdown",
   "metadata": {},
   "source": [
    "### 7. Operations between `np.arrays`"
   ]
  },
  {
   "cell_type": "code",
   "execution_count": null,
   "metadata": {},
   "outputs": [],
   "source": [
    "# code here!"
   ]
  },
  {
   "cell_type": "markdown",
   "metadata": {},
   "source": [
    "### 8. Transpose Matrix"
   ]
  },
  {
   "cell_type": "code",
   "execution_count": null,
   "metadata": {},
   "outputs": [],
   "source": [
    "# code here!"
   ]
  },
  {
   "cell_type": "markdown",
   "metadata": {},
   "source": [
    "### 9. Reshaping arrays"
   ]
  },
  {
   "cell_type": "code",
   "execution_count": null,
   "metadata": {},
   "outputs": [],
   "source": [
    "from sklearn.datasets import load_sample_image\n",
    "image = load_sample_image('flower.jpg')\n",
    "image"
   ]
  }
 ],
 "metadata": {
  "kernelspec": {
   "display_name": "Python 3",
   "language": "python",
   "name": "python3"
  },
  "language_info": {
   "codemirror_mode": {
    "name": "ipython",
    "version": 3
   },
   "file_extension": ".py",
   "mimetype": "text/x-python",
   "name": "python",
   "nbconvert_exporter": "python",
   "pygments_lexer": "ipython3",
   "version": "3.7.10"
  },
  "toc": {
   "base_numbering": 1,
   "nav_menu": {},
   "number_sections": true,
   "sideBar": true,
   "skip_h1_title": false,
   "title_cell": "Table of Contents",
   "title_sidebar": "Contents",
   "toc_cell": false,
   "toc_position": {},
   "toc_section_display": true,
   "toc_window_display": false
  }
 },
 "nbformat": 4,
 "nbformat_minor": 4
}
