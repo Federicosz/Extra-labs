{
 "cells": [
  {
   "cell_type": "markdown",
   "metadata": {},
   "source": [
    "# LAB | Titanic exploration"
   ]
  },
  {
   "cell_type": "markdown",
   "metadata": {},
   "source": [
    "## Import libraries here"
   ]
  },
  {
   "cell_type": "code",
   "execution_count": null,
   "metadata": {},
   "outputs": [],
   "source": [
    "# Your code here"
   ]
  },
  {
   "cell_type": "markdown",
   "metadata": {
    "colab_type": "text",
    "id": "8u68jfFs1b2X"
   },
   "source": [
    "## The Titanic dataset\n",
    "\n",
    "- Read the file `titanic.csv` and store in a variable called `titanic`\n",
    "- You can find more information [here](https://www.kaggle.com/c/titanic/data)"
   ]
  },
  {
   "cell_type": "code",
   "execution_count": 3,
   "metadata": {},
   "outputs": [],
   "source": [
    "# Your code here"
   ]
  },
  {
   "cell_type": "markdown",
   "metadata": {
    "colab_type": "text",
    "id": "G3EhkLyM1b2j"
   },
   "source": [
    "## Drop the `Cabin` column for now. \n",
    "- The problem with the Cabin column is it has a lot of missing values. We'll see how to handle it later."
   ]
  },
  {
   "cell_type": "code",
   "execution_count": 6,
   "metadata": {},
   "outputs": [],
   "source": [
    "# Your code here"
   ]
  },
  {
   "cell_type": "markdown",
   "metadata": {
    "colab_type": "text",
    "id": "cwo_20Fx1b27"
   },
   "source": [
    "## Missing values\n",
    "- Count the number of missing values on the dataset\n",
    "- After counting the number of missing values, drop them. We'll come back to them later."
   ]
  },
  {
   "cell_type": "code",
   "execution_count": 8,
   "metadata": {},
   "outputs": [],
   "source": [
    "# Your code here"
   ]
  },
  {
   "cell_type": "markdown",
   "metadata": {
    "colab_type": "text",
    "id": "YI21X4nA1b3U"
   },
   "source": [
    "- Check how much data we've dropped and check the number of missings in the dataset again just to check if you dropped it correctly."
   ]
  },
  {
   "cell_type": "code",
   "execution_count": 13,
   "metadata": {},
   "outputs": [],
   "source": [
    "# Your code here"
   ]
  },
  {
   "cell_type": "markdown",
   "metadata": {
    "colab_type": "text",
    "id": "eVYrdJO11b3g"
   },
   "source": [
    "## Check some statistics of the dataset\n",
    "- Use `.describe()` on the resulting dataset to check some patterns on the numerical columns"
   ]
  },
  {
   "cell_type": "code",
   "execution_count": 16,
   "metadata": {},
   "outputs": [],
   "source": [
    "# Your code here"
   ]
  },
  {
   "cell_type": "markdown",
   "metadata": {
    "colab_type": "text",
    "id": "Q-vv9rxW1b3o"
   },
   "source": [
    "- What can you conclude from that? Check for example the average of survivals, the minimum and maximum Ages."
   ]
  },
  {
   "cell_type": "code",
   "execution_count": 18,
   "metadata": {},
   "outputs": [],
   "source": [
    "# Your answer here"
   ]
  },
  {
   "cell_type": "markdown",
   "metadata": {
    "colab_type": "text",
    "id": "oOWuh4WU1b3v"
   },
   "source": [
    "## Visualizing relationships\n",
    "- Try to use a scatterplot on the dataframe columns `Age` vs `Survived` to see if you can have some insights"
   ]
  },
  {
   "cell_type": "code",
   "execution_count": 20,
   "metadata": {
    "colab_type": "text",
    "id": "0QJFPxfu1b33"
   },
   "outputs": [],
   "source": [
    "# Your code here"
   ]
  },
  {
   "cell_type": "markdown",
   "metadata": {
    "colab_type": "text",
    "id": "YEtabpLP1b4I"
   },
   "source": [
    "- Now do the same for the columns `Fare` and `Survived`"
   ]
  },
  {
   "cell_type": "code",
   "execution_count": 22,
   "metadata": {},
   "outputs": [],
   "source": [
    "# Your code here"
   ]
  },
  {
   "cell_type": "markdown",
   "metadata": {},
   "source": [
    "## Dealing with categorical variables\n",
    "- Is there any better visualization technique to handle with categorical variables? Find other ways and try to understand the effect of Age in the variable Survived"
   ]
  },
  {
   "cell_type": "code",
   "execution_count": 24,
   "metadata": {},
   "outputs": [],
   "source": [
    "# Your code here"
   ]
  },
  {
   "cell_type": "markdown",
   "metadata": {
    "colab_type": "text",
    "id": "bcdRBpG71b4U"
   },
   "source": [
    "## Cross Tab\n",
    "- Sometimes the plots above can reveal some important insights - especially  if you have used some kind of, however, a better way to obtain these insights would be to use the `pd.crosstab()` function. \n",
    "- Use it to explore the relations between `Age` and `Survived`. "
   ]
  },
  {
   "cell_type": "code",
   "execution_count": 26,
   "metadata": {},
   "outputs": [],
   "source": [
    "# Your code here"
   ]
  },
  {
   "cell_type": "markdown",
   "metadata": {
    "colab_type": "text",
    "id": "Ton92qVC1b4o"
   },
   "source": [
    "- Now perform the same operation for `Pclass` and `Survived`"
   ]
  },
  {
   "cell_type": "code",
   "execution_count": 28,
   "metadata": {},
   "outputs": [],
   "source": [
    "# Your code here"
   ]
  },
  {
   "cell_type": "markdown",
   "metadata": {
    "colab_type": "text",
    "id": "ifn_DNGX1b46"
   },
   "source": [
    "## Correlations\n",
    "- Use the method `.corr()` in your dataframe to understand the correlation between the variables"
   ]
  },
  {
   "cell_type": "code",
   "execution_count": 30,
   "metadata": {},
   "outputs": [],
   "source": [
    "# Your code here"
   ]
  },
  {
   "cell_type": "markdown",
   "metadata": {},
   "source": [
    "- Plot a heatmap with the correlation values"
   ]
  },
  {
   "cell_type": "code",
   "execution_count": 32,
   "metadata": {},
   "outputs": [],
   "source": [
    "# Your code here"
   ]
  },
  {
   "cell_type": "markdown",
   "metadata": {
    "colab_type": "text",
    "id": "vhBW4Z8s1b5G"
   },
   "source": [
    "- Do you think age is linearly related to the variable Survived? \n",
    "- Do you think this variable will be important in our models?"
   ]
  },
  {
   "cell_type": "code",
   "execution_count": 34,
   "metadata": {},
   "outputs": [],
   "source": [
    "# Your answer here"
   ]
  },
  {
   "cell_type": "markdown",
   "metadata": {},
   "source": [
    "## Plots\n",
    "- Plot the distribution of the `Age` variable for each category of the `Survived` variable in the same plot. "
   ]
  },
  {
   "cell_type": "code",
   "execution_count": 36,
   "metadata": {
    "colab_type": "text",
    "id": "Yvmc2WfW1b5N"
   },
   "outputs": [],
   "source": [
    "# Your code here"
   ]
  },
  {
   "cell_type": "markdown",
   "metadata": {
    "colab_type": "text",
    "id": "VwA7WIo21b5T"
   },
   "source": [
    "- Plot the `Age` distributions but break it into the groups:\n",
    "> - Survived, less than 18 years old male \n",
    "> - NOT Survived, less than 18 years old male \n",
    " "
   ]
  },
  {
   "cell_type": "code",
   "execution_count": null,
   "metadata": {},
   "outputs": [],
   "source": [
    "# Your code here"
   ]
  },
  {
   "cell_type": "markdown",
   "metadata": {
    "colab_type": "text",
    "id": "23jEdbpj1b5k"
   },
   "source": [
    "- What can you conclude about the variable Age? \n",
    "- Is it important? \n",
    "- How does this relate to `Age`'s linear correlation coefficient? "
   ]
  },
  {
   "cell_type": "code",
   "execution_count": 39,
   "metadata": {},
   "outputs": [],
   "source": [
    "# Your answer here"
   ]
  },
  {
   "cell_type": "markdown",
   "metadata": {
    "colab_type": "text",
    "id": "7t3HMfcz1b5y"
   },
   "source": [
    "## Average survival rate\n",
    "- You probably observed a discrimination of surivaval around 9 years old. \n",
    "- For this exercise, you need to calculate the average of survivalness for each of these groups to survive. Again, filter the dataset into two subgroups:\n",
    "\n",
    "> - Males with ages less than 9\n",
    "> - Males with ages greater than 9 and less than 18\n",
    "\n",
    "- What are their average survival?"
   ]
  },
  {
   "cell_type": "code",
   "execution_count": 41,
   "metadata": {},
   "outputs": [],
   "source": [
    "# Your code here"
   ]
  },
  {
   "cell_type": "markdown",
   "metadata": {
    "colab_type": "text",
    "id": "5bY2kXrU1b6E"
   },
   "source": [
    "## Prepare data for our first model"
   ]
  },
  {
   "cell_type": "markdown",
   "metadata": {
    "colab_type": "text",
    "id": "ysacJZC41b6F"
   },
   "source": [
    "### Let's start simple. \n",
    "- First create a variable named `X` containing the variables `['Pclass','Sex','Age','SibSp','Parch','Fare','Embarked']`"
   ]
  },
  {
   "cell_type": "code",
   "execution_count": 43,
   "metadata": {},
   "outputs": [],
   "source": [
    "# Your code here"
   ]
  },
  {
   "cell_type": "markdown",
   "metadata": {
    "colab_type": "text",
    "id": "pRKA_PqH1b6O"
   },
   "source": [
    "- Also create a pandas series containing the variable `Survived`. Store it in the variable `y`."
   ]
  },
  {
   "cell_type": "code",
   "execution_count": 45,
   "metadata": {},
   "outputs": [],
   "source": [
    "# Your code here"
   ]
  },
  {
   "cell_type": "markdown",
   "metadata": {
    "colab_type": "text",
    "id": "y3PUjb3_1b6U"
   },
   "source": [
    "## Dummify your dataset\n",
    "- Create a dummy version of your `X` dataset. \n",
    "- After obtaining the dummification of your features, you'll observe that you won't need both of them, so you could use the argument `drop_first=True` to get rid of the first dummy."
   ]
  },
  {
   "cell_type": "code",
   "execution_count": 47,
   "metadata": {},
   "outputs": [],
   "source": [
    "# Your code here"
   ]
  },
  {
   "cell_type": "markdown",
   "metadata": {
    "colab_type": "text",
    "id": "e92Dzvm51b6a"
   },
   "source": [
    "## Prepare your validation strategy\n",
    "- We will use the validation strategy called `holdout`. For this strategy, the idea is to hide part of your dataframe to estimate the error on data you haven't seen before. \n",
    "- So you'll be able to use part of your dataset to train your model and then use the never-seen part of your dataset to have a good estimate of the error when the model goes to production."
   ]
  },
  {
   "cell_type": "markdown",
   "metadata": {},
   "source": [
    "## Separate your dataset"
   ]
  },
  {
   "cell_type": "markdown",
   "metadata": {
    "colab_type": "text",
    "id": "cnnEBBFb1b6a"
   },
   "source": [
    "- Separate your `X` dataset into a dataset called `X_train` and another called `X_test`. Also create a pandas series containing `y_train` and `y_test`. \n",
    "- You can use `train_test_split` to split\n",
    "```python\n",
    "from sklearn.model_selection import train_test_split\n",
    "```"
   ]
  },
  {
   "cell_type": "code",
   "execution_count": 49,
   "metadata": {},
   "outputs": [],
   "source": [
    "# Your code here"
   ]
  },
  {
   "cell_type": "markdown",
   "metadata": {},
   "source": [
    "## Concatenate\n",
    "- Concat the `X_train` and `y_train`. Do the same for `X_test` and `y_test`. \n",
    "- Put them into dataframes called `titanic_train` and `titanic_test`"
   ]
  },
  {
   "cell_type": "code",
   "execution_count": 52,
   "metadata": {},
   "outputs": [],
   "source": [
    "# Your code here"
   ]
  },
  {
   "cell_type": "markdown",
   "metadata": {
    "colab_type": "text",
    "id": "dmVN7plq1b64"
   },
   "source": [
    "## Store it in your own folder."
   ]
  },
  {
   "cell_type": "code",
   "execution_count": 54,
   "metadata": {},
   "outputs": [],
   "source": [
    "# Your code here"
   ]
  }
 ],
 "metadata": {
  "colab": {
   "collapsed_sections": [
    "ysacJZC41b6F"
   ],
   "name": "titanic-exploration_as.ipynb",
   "provenance": []
  },
  "hide_input": false,
  "kernelspec": {
   "display_name": "Python 3",
   "language": "python",
   "name": "python3"
  },
  "language_info": {
   "codemirror_mode": {
    "name": "ipython",
    "version": 3
   },
   "file_extension": ".py",
   "mimetype": "text/x-python",
   "name": "python",
   "nbconvert_exporter": "python",
   "pygments_lexer": "ipython3",
   "version": "3.8.3"
  },
  "toc": {
   "base_numbering": 1,
   "nav_menu": {},
   "number_sections": true,
   "sideBar": true,
   "skip_h1_title": false,
   "title_cell": "Table of Contents",
   "title_sidebar": "Contents",
   "toc_cell": false,
   "toc_position": {},
   "toc_section_display": true,
   "toc_window_display": false
  },
  "varInspector": {
   "cols": {
    "lenName": 16,
    "lenType": 16,
    "lenVar": 40
   },
   "kernels_config": {
    "python": {
     "delete_cmd_postfix": "",
     "delete_cmd_prefix": "del ",
     "library": "var_list.py",
     "varRefreshCmd": "print(var_dic_list())"
    },
    "r": {
     "delete_cmd_postfix": ") ",
     "delete_cmd_prefix": "rm(",
     "library": "var_list.r",
     "varRefreshCmd": "cat(var_dic_list()) "
    }
   },
   "types_to_exclude": [
    "module",
    "function",
    "builtin_function_or_method",
    "instance",
    "_Feature"
   ],
   "window_display": false
  }
 },
 "nbformat": 4,
 "nbformat_minor": 1
}
