{
 "cells": [
  {
   "cell_type": "markdown",
   "metadata": {},
   "source": [
    "# LAB | Evaluation Unsupervised Learning\n",
    "- This lab is designed to help you practice and solidify your ability to analyze the results of unsupervised models."
   ]
  },
  {
   "cell_type": "markdown",
   "metadata": {},
   "source": [
    "## Import libraries here"
   ]
  },
  {
   "cell_type": "code",
   "execution_count": null,
   "metadata": {},
   "outputs": [],
   "source": [
    "# Your code here"
   ]
  },
  {
   "cell_type": "markdown",
   "metadata": {},
   "source": [
    "# Wine dataset"
   ]
  },
  {
   "cell_type": "markdown",
   "metadata": {},
   "source": [
    "## Load dataset\n",
    "- Run the code below to import the dataset and separate X and y\n",
    "```python\n",
    "from sklearn import datasets\n",
    "data = datasets.load_wine()\n",
    "X = pd.DataFrame(data[\"data\"], columns=data[\"feature_names\"])\n",
    "y = pd.Series(data[\"target\"])\n",
    "```"
   ]
  },
  {
   "cell_type": "code",
   "execution_count": null,
   "metadata": {},
   "outputs": [],
   "source": [
    "# Your code here"
   ]
  },
  {
   "cell_type": "markdown",
   "metadata": {},
   "source": [
    "## Train a KMeans clustering model with 8 clusters\n",
    "- Use the X variable from the wine dataset\n",
    "- Standardize the features\n",
    "- Use 8 clusters, set `n_clusters=8` for the kmean model\n",
    "```python\n",
    "from sklearn.preprocessing import StandardScaler\n",
    "from sklearn.cluster import KMeans\n",
    "```"
   ]
  },
  {
   "cell_type": "code",
   "execution_count": null,
   "metadata": {},
   "outputs": [],
   "source": [
    "# Your code here"
   ]
  },
  {
   "cell_type": "markdown",
   "metadata": {},
   "source": [
    "### Silhouette with 8 clusters\n",
    "- Print the silhouette for the model\n",
    "- Compute the silhouette score for the model\n",
    "```python\n",
    "from sklearn.metrics import silhouette_score\n",
    "from yellowbrick.cluster import SilhouetteVisualizer\n",
    "```"
   ]
  },
  {
   "cell_type": "code",
   "execution_count": null,
   "metadata": {},
   "outputs": [],
   "source": [
    "# Your code here"
   ]
  },
  {
   "cell_type": "markdown",
   "metadata": {},
   "source": [
    "## Train a KMeans clustering model with 5 clusters\n",
    "- Use the X variable from the wine dataset\n",
    "- Standardize the features\n",
    "- Use 5 clusters, set `n_clusters=5` for the kmean model"
   ]
  },
  {
   "cell_type": "code",
   "execution_count": null,
   "metadata": {},
   "outputs": [],
   "source": [
    "# Your code here"
   ]
  },
  {
   "cell_type": "markdown",
   "metadata": {},
   "source": [
    "### Silhouette with 5 clusters\n",
    "- Print the silhouette for the model\n",
    "- Compute the silhouette score for the model"
   ]
  },
  {
   "cell_type": "code",
   "execution_count": null,
   "metadata": {},
   "outputs": [],
   "source": [
    "# Your code here"
   ]
  },
  {
   "cell_type": "markdown",
   "metadata": {},
   "source": [
    "## Train a KMeans clustering model with 3 clusters\n",
    "- Use the X variable from the wine dataset\n",
    "- Standardize the features\n",
    "- Use 5 clusters, set `n_clusters=3` for the kmean model"
   ]
  },
  {
   "cell_type": "code",
   "execution_count": null,
   "metadata": {},
   "outputs": [],
   "source": [
    "# Your code here"
   ]
  },
  {
   "cell_type": "markdown",
   "metadata": {},
   "source": [
    "### Silhouette with 3 clusters\n",
    "- Print the silhouette for the model\n",
    "- Compute the silhouette score for the model"
   ]
  },
  {
   "cell_type": "code",
   "execution_count": null,
   "metadata": {},
   "outputs": [],
   "source": [
    "# Your code here"
   ]
  },
  {
   "cell_type": "markdown",
   "metadata": {},
   "source": [
    "## Elbow curve\n",
    "- Use elbow curve visualizations to see if you can determine the best number of clusters to use. \n",
    "- The Yellowbrick library has 3 metrics that you can plot using the `metric` parameter:\n",
    ">- **distortion**: mean sum of squared distances to centers\n",
    ">- **silhouette**: mean ratio of intra-cluster and nearest-cluster distance\n",
    ">- **calinski_harabasz**: ratio of within to between cluster dispersion\n",
    "```python\n",
    "from yellowbrick.cluster import KElbowVisualizer\n",
    "```"
   ]
  },
  {
   "cell_type": "code",
   "execution_count": null,
   "metadata": {},
   "outputs": [],
   "source": [
    "# Your code here"
   ]
  },
  {
   "cell_type": "markdown",
   "metadata": {},
   "source": [
    "## Create and plot a scatter matrix\n",
    "- Create and plot a scatter matrix showing how the clusters are grouped across all the different combinations of variables in the data\n",
    "- Use the model and number of clusters that returned the best result above."
   ]
  },
  {
   "cell_type": "code",
   "execution_count": null,
   "metadata": {},
   "outputs": [],
   "source": [
    "import seaborn as sns"
   ]
  },
  {
   "cell_type": "markdown",
   "metadata": {},
   "source": [
    "## Apply a PCA transform\n",
    "- Apply a PCA transform\n",
    "- Plot the first two principal components with the hue by cluster\n",
    "```python\n",
    "from sklearn.decomposition import PCA\n",
    "```"
   ]
  },
  {
   "cell_type": "code",
   "execution_count": null,
   "metadata": {},
   "outputs": [],
   "source": [
    "# Your code here"
   ]
  }
 ],
 "metadata": {
  "kernelspec": {
   "display_name": "Python 3",
   "language": "python",
   "name": "python3"
  },
  "language_info": {
   "codemirror_mode": {
    "name": "ipython",
    "version": 3
   },
   "file_extension": ".py",
   "mimetype": "text/x-python",
   "name": "python",
   "nbconvert_exporter": "python",
   "pygments_lexer": "ipython3",
   "version": "3.8.3"
  }
 },
 "nbformat": 4,
 "nbformat_minor": 4
}
