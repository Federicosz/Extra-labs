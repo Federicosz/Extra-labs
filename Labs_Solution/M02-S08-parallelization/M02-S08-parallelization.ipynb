{
 "cells": [
  {
   "cell_type": "markdown",
   "source": [
    "![Ironhack logo](https://i.imgur.com/1QgrNNw.png)\r\n",
    "\r\n",
    "# Lab | Parallelization\r\n",
    "\r\n",
    "## Introduction\r\n",
    "\r\n",
    "This lab will combine parallelization with some of the other topics you have learned in the Intermediate Python module of this program (list comprehensions, requests library, functional programming, web scraping, etc.). You will write code that extracts a list of links from a web page, requests each URL, and then indexes the page referenced by each link - both sequentially and in parallel.\r\n",
    "\r\n",
    "## Resources\r\n",
    "\r\n",
    "- [Multiprocessing Library Documentation](https://docs.python.org/3/library/multiprocessing.html?highlight=multiprocessing#module-multiprocessing)\r\n",
    "- [Python Parallel Computing (in 60 Seconds or less)](https://dbader.org/blog/python-parallel-computing-in-60-seconds)\r\n",
    "- [Python Multiprocessing: Pool vs Process – Comparative Analysis](https://www.ellicium.com/python-multiprocessing-pool-process/)"
   ],
   "metadata": {}
  },
  {
   "cell_type": "markdown",
   "source": [
    "## Step 1: Use the requests library to retrieve the content from the URL below."
   ],
   "metadata": {
    "colab_type": "text",
    "id": "YQUSp94RAWQ4"
   }
  },
  {
   "cell_type": "code",
   "execution_count": 18,
   "source": [
    "import requests\r\n",
    "url = 'https://en.wikipedia.org/wiki/Data_science'"
   ],
   "outputs": [],
   "metadata": {
    "ExecuteTime": {
     "end_time": "2020-06-29T20:03:36.690119Z",
     "start_time": "2020-06-29T20:03:36.353312Z"
    },
    "colab": {},
    "colab_type": "code",
    "id": "7yK4Z7r4AWQ4"
   }
  },
  {
   "cell_type": "code",
   "execution_count": 19,
   "source": [
    "html = requests.get(url).content"
   ],
   "outputs": [],
   "metadata": {
    "ExecuteTime": {
     "end_time": "2020-06-29T20:03:37.310177Z",
     "start_time": "2020-06-29T20:03:36.695115Z"
    },
    "colab": {},
    "colab_type": "code",
    "id": "sAQ_os7vAWQ9"
   }
  },
  {
   "cell_type": "markdown",
   "source": [
    "## Step 2: Use BeautifulSoup to extract a list of all the unique links on the page."
   ],
   "metadata": {
    "colab_type": "text",
    "id": "X8LfHrmwAWRE"
   }
  },
  {
   "cell_type": "code",
   "execution_count": 20,
   "source": [
    "from bs4 import BeautifulSoup"
   ],
   "outputs": [],
   "metadata": {
    "ExecuteTime": {
     "end_time": "2020-06-29T20:03:37.552021Z",
     "start_time": "2020-06-29T20:03:37.317159Z"
    },
    "colab": {},
    "colab_type": "code",
    "id": "iZ9gYv9_AWRF"
   }
  },
  {
   "cell_type": "code",
   "execution_count": null,
   "source": [
    "soup = BeautifulSoup(html)\r\n",
    "link_tags = soup.find_all('a', href=True)\r\n",
    "links = list(set([link['href'] for link in link_tags]))"
   ],
   "outputs": [],
   "metadata": {
    "ExecuteTime": {
     "end_time": "2020-06-29T20:03:37.694061Z",
     "start_time": "2020-06-29T20:03:37.556126Z"
    },
    "colab": {},
    "colab_type": "code",
    "id": "8W-rZeCvAWRI",
    "scrolled": true
   }
  },
  {
   "cell_type": "markdown",
   "source": [
    "## Step 3: Use list comprehensions with conditions to clean the link list.\r\n",
    "\r\n",
    "Create a list with the absolute link and remove any that contain a percentage sign (%)"
   ],
   "metadata": {
    "colab_type": "text",
    "id": "4cX7Ysz7AWRL"
   }
  },
  {
   "cell_type": "code",
   "execution_count": null,
   "source": [
    "absolute_links = [link for link in links if link.startswith('http') and '%' not in link]"
   ],
   "outputs": [],
   "metadata": {
    "ExecuteTime": {
     "end_time": "2020-06-29T20:03:37.731043Z",
     "start_time": "2020-06-29T20:03:37.709058Z"
    },
    "colab": {},
    "colab_type": "code",
    "id": "E3WgzEvTAWRQ"
   }
  },
  {
   "cell_type": "markdown",
   "source": [
    "## Step 4: Write a function called crawl_page that accepts a link and does the following.\r\n",
    "\r\n",
    "- Request the content of the page referenced by that link.\r\n",
    "- Create a soup with the request content.\r\n",
    "- Extract a list of links\r\n",
    "- Return the count of links in the page"
   ],
   "metadata": {
    "colab_type": "text",
    "id": "RGyDklfYAWRk"
   }
  },
  {
   "cell_type": "code",
   "execution_count": 21,
   "source": [
    "def crawl_page(url):\r\n",
    "    import requests\r\n",
    "    from bs4 import BeautifulSoup\r\n",
    "    \r\n",
    "    html = requests.get(url).content\r\n",
    "    soup = BeautifulSoup(html)\r\n",
    "    link_tags = soup.find_all('a', href=True)\r\n",
    "    return len(link_tags)"
   ],
   "outputs": [],
   "metadata": {
    "ExecuteTime": {
     "end_time": "2020-06-29T20:03:37.842978Z",
     "start_time": "2020-06-29T20:03:37.835980Z"
    },
    "colab": {},
    "colab_type": "code",
    "id": "K8TjKxI-AWRr"
   }
  },
  {
   "cell_type": "markdown",
   "source": [
    "## Step 5: Sequentially loop through the list of links, running the crawl_page function each time and save result in a list.\r\n",
    "\r\n",
    "Remember to include `%%time` at the beginning of the cell so that it measures the time it takes for the cell to run."
   ],
   "metadata": {
    "colab_type": "text",
    "id": "uOVjV8KWAWRu"
   }
  },
  {
   "cell_type": "code",
   "execution_count": 15,
   "source": [
    "%%time\r\n",
    "result_list = []\r\n",
    "for url in absolute_links:\r\n",
    "    result_list.append(crawl_page(url))\r\n",
    "\r\n",
    "print(result_list)"
   ],
   "outputs": [
    {
     "output_type": "stream",
     "name": "stderr",
     "text": [
      "Some characters could not be decoded, and were replaced with REPLACEMENT CHARACTER.\n"
     ]
    },
    {
     "output_type": "stream",
     "name": "stdout",
     "text": [
      "[99, 0, 12, 171, 361, 125, 171, 271, 70, 0, 116, 315, 1, 274, 229, 298, 0, 69, 21, 4, 5, 0, 151, 130, 75, 67, 366, 2, 161, 161, 172, 111, 71, 369, 219, 1, 4, 80, 100, 115, 157, 484, 39, 263, 174, 83, 112, 273, 0, 258, 27, 280, 140, 272, 146, 100, 233, 119]\n",
      "Wall time: 1min 51s\n"
     ]
    }
   ],
   "metadata": {
    "ExecuteTime": {
     "end_time": "2020-06-29T20:11:28.102014Z",
     "start_time": "2020-06-29T20:03:37.844975Z"
    },
    "colab": {},
    "colab_type": "code",
    "id": "JKIj4pJgAWRu",
    "outputId": "8ef05761-b75e-4bb5-ed34-92bb54cea04a"
   }
  },
  {
   "cell_type": "markdown",
   "source": [
    "## Step 6: Perform the page indexing in parallel and note the difference in performance.\r\n",
    "\r\n",
    "Remember to include `%%time` at the beginning of the cell so that it measures the time it takes for the cell to run."
   ],
   "metadata": {
    "colab_type": "text",
    "id": "oRo4XekYAWR0"
   }
  },
  {
   "cell_type": "code",
   "execution_count": 22,
   "source": [
    "#import multiprocessing\r\n",
    "import multiprocess\r\n",
    "# If you are using MaC use the multiprocessing library "
   ],
   "outputs": [],
   "metadata": {
    "ExecuteTime": {
     "end_time": "2020-06-29T20:11:28.163980Z",
     "start_time": "2020-06-29T20:11:28.104015Z"
    },
    "colab": {},
    "colab_type": "code",
    "id": "38khI1NqAWR2"
   }
  },
  {
   "cell_type": "code",
   "execution_count": 23,
   "source": [
    "%%time\r\n",
    "# pool = multiprocessing.Pool()\r\n",
    "pool = multiprocess.Pool()\r\n",
    "result = pool.map(crawl_page, absolute_links)\r\n",
    "pool.terminate()\r\n",
    "\r\n",
    "print(result)"
   ],
   "outputs": [
    {
     "output_type": "stream",
     "name": "stdout",
     "text": [
      "Wall time: 31 s\n"
     ]
    }
   ],
   "metadata": {
    "ExecuteTime": {
     "end_time": "2020-06-29T20:12:38.398687Z",
     "start_time": "2020-06-29T20:11:28.166978Z"
    },
    "colab": {},
    "colab_type": "code",
    "id": "T1-dvNOfAWR5",
    "outputId": "c91211cd-154a-45cb-81a1-d8b1ba43e037",
    "scrolled": true
   }
  }
 ],
 "metadata": {
  "colab": {
   "collapsed_sections": [],
   "name": "paralelization_as.ipynb",
   "provenance": []
  },
  "hide_input": false,
  "kernelspec": {
   "name": "python3",
   "display_name": "Python 3.9.2 64-bit"
  },
  "language_info": {
   "codemirror_mode": {
    "name": "ipython",
    "version": 3
   },
   "file_extension": ".py",
   "mimetype": "text/x-python",
   "name": "python",
   "nbconvert_exporter": "python",
   "pygments_lexer": "ipython3",
   "version": "3.9.2"
  },
  "toc": {
   "base_numbering": 1,
   "nav_menu": {},
   "number_sections": true,
   "sideBar": true,
   "skip_h1_title": false,
   "title_cell": "Table of Contents",
   "title_sidebar": "Contents",
   "toc_cell": false,
   "toc_position": {},
   "toc_section_display": true,
   "toc_window_display": false
  },
  "varInspector": {
   "cols": {
    "lenName": 16,
    "lenType": 16,
    "lenVar": 40
   },
   "kernels_config": {
    "python": {
     "delete_cmd_postfix": "",
     "delete_cmd_prefix": "del ",
     "library": "var_list.py",
     "varRefreshCmd": "print(var_dic_list())"
    },
    "r": {
     "delete_cmd_postfix": ") ",
     "delete_cmd_prefix": "rm(",
     "library": "var_list.r",
     "varRefreshCmd": "cat(var_dic_list()) "
    }
   },
   "types_to_exclude": [
    "module",
    "function",
    "builtin_function_or_method",
    "instance",
    "_Feature"
   ],
   "window_display": false
  },
  "interpreter": {
   "hash": "ac59ebe37160ed0dfa835113d9b8498d9f09ceb179beaac4002f036b9467c963"
  }
 },
 "nbformat": 4,
 "nbformat_minor": 1
}